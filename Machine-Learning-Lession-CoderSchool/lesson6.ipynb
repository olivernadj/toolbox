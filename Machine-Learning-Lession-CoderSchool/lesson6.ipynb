{
 "cells": [
  {
   "cell_type": "markdown",
   "metadata": {},
   "source": [
    "# Lesson 6\n",
    "\n",
    "We will be examining data exploration techniques and feature selection methodologies.\n",
    "\n",
    "**Goal**\n",
    "\n",
    "After this lesson, you should:\n",
    "1. Understand *recall* and *precision*\n",
    "1. Understand detection and removal of *outliers*. \n",
    "1. Understand the following feature selection algorithms:\n",
    "    - *univariate selection*\n",
    "    - *recursive feature elimination (RFE)*\n"
   ]
  },
  {
   "cell_type": "code",
   "execution_count": 1,
   "metadata": {},
   "outputs": [],
   "source": [
    "import numpy as np\n",
    "import pandas as pd\n",
    "import sklearn as skl\n",
    "import statsmodels as sm\n",
    "import matplotlib.pyplot as plt\n",
    "import seaborn as sea\n",
    "\n",
    "# control the plotsize\n",
    "plt.rcParams['figure.figsize'] = [10,5]"
   ]
  },
  {
   "cell_type": "markdown",
   "metadata": {},
   "source": [
    "### Validation\n",
    "We've already explore the concept of validating our models and testing our various models against themselves. We've explored ROC curves and cross validation in our previous lessons. Today, we will explore *recall precision plots*, which will further help us understand the performance of our model.\n",
    "\n",
    "> Imagine I claimed to have a model which can predict whether an acre of land will catch fire within the United States with > 99% accuracy. Since wildfires are a major cause for concern and a significant expense for the federal and state governments, this model would really help disaster planning efforts. In order to acheive this model, I simply label every acre in the United States as *NOT_AT_RISK*. Since there are ~2.3 billion acres of land in the United States, and in 2017 there were almost 2 million acres which caught fire, my model is accurate 99.99% of the time.\n",
    "\n",
    "Would you buy my model?"
   ]
  },
  {
   "cell_type": "markdown",
   "metadata": {},
   "source": [
    "#### Recall vs Precision\n",
    "\n",
    "In the above case, our data is highly *imbalanced*. Can you think of other imbalanced classification problems in real life?\n",
    "\n",
    "Intuitively, we know the above model is bad because it predicts too real cases given all possible correctly identified true predictions and all \"missed\" true predictions. We can further develop this idea with the concept of **recall**:\n",
    "\n",
    "$$\n",
    "    R = \\frac{\\#TP}{\\#TP + \\#FN}\n",
    "$$\n",
    "\n",
    "> Of those classified as AT_RISK, what proportion actually caught fire?\n",
    "\n",
    "\n",
    "What would our recall be for the wildfire model above?\n",
    "\n",
    "---\n",
    "\n",
    "In addition to **recall**, we also want to develop the intuition that it's extremely unhelpful to label the entire United States as *AT_RISK* simply to increase our recall. This would be just as unhelpful since we can't actually use the model for anything useful. In other words, how many predictions were actually relevant?\n",
    "\n",
    "$$\n",
    "    P = \\frac{\\#TP}{\\#TP + \\#FP}\n",
    "$$\n",
    "\n",
    "> Of those that actually caught fire, what proportion were identified?\n",
    "\n",
    "It becomes clear that our more useless model now has fewer relevant data points."
   ]
  },
  {
   "cell_type": "markdown",
   "metadata": {},
   "source": [
    "<img src=\"https://i.stack.imgur.com/T0kQr.png\">"
   ]
  },
  {
   "cell_type": "markdown",
   "metadata": {},
   "source": [
    "Questions:\n",
    "    - Can you think of situations where we want to optimize either for greater precision OR greater recall?\n",
    "    - How does an ROC Curve differ from a Precision vs Recall curve?\n",
    "\n",
    "\n",
    "#### F1 Score\n",
    "\n",
    "The F1 score helps us capture how \"good\" of a balance we have between precision and recall.\n",
    "\n",
    "Why can't we just take the average of our precision and recall scores?\n",
    "\n",
    "$$\n",
    "    F1 = 2*\\frac{P*R}{P+R}\n",
    "$$\n",
    "\n",
    "When building a classifier, we want to optimize our $F1$ score in order to achive a balanced classifier."
   ]
  },
  {
   "cell_type": "code",
   "execution_count": 2,
   "metadata": {},
   "outputs": [
    {
     "data": {
      "text/plain": [
       "0.75"
      ]
     },
     "execution_count": 2,
     "metadata": {},
     "output_type": "execute_result"
    }
   ],
   "source": [
    "from sklearn.metrics import f1_score\n",
    "\n",
    "# build a model \n",
    "y_test = np.array([0,1,2,1,3,2,1,0])\n",
    "\n",
    "# model.fit(X,y)\n",
    "# y_pred = model.predict(y_test)\n",
    "y_pred = np.array([0,3,2,1,2,2,1,0])\n",
    "\n",
    "f1_score(y_test,y_pred,average='weighted')"
   ]
  },
  {
   "cell_type": "code",
   "execution_count": 3,
   "metadata": {},
   "outputs": [
    {
     "data": {
      "text/plain": [
       "(0.7916666666666666, 0.75, 0.75, None)"
      ]
     },
     "execution_count": 3,
     "metadata": {},
     "output_type": "execute_result"
    }
   ],
   "source": [
    "from sklearn.metrics import precision_recall_fscore_support\n",
    "\n",
    "precision_recall_fscore_support(y_test, y_pred, average='weighted')"
   ]
  },
  {
   "cell_type": "markdown",
   "metadata": {},
   "source": [
    "### Data Exploration\n",
    "\n",
    "As we've seen, the bulk of machine learning lies in the preparation and exploration of our initial data. Whenever we begin a new problem, we need to fully understand *exactly* what we are doing. This requires gaining domain knowledge, examining specific features, and getting a \"feel\" for our data.\n",
    "\n",
    "The general steps in data exploration are as follows:\n",
    "\n",
    "> Garbage in, Garbage out\n",
    "\n",
    "1. identify our features\n",
    "1. examine each feature\n",
    "1. examine the relationships between different feature pairs\n",
    "1. handle any bad data\n",
    "    - missing values\n",
    "    - outliers\n",
    "    - mislabled values\n",
    "1. feature engineering, which may entail creating new features\n",
    "\n",
    "Let's pull in a data set and explore each stage."
   ]
  },
  {
   "cell_type": "code",
   "execution_count": 4,
   "metadata": {},
   "outputs": [
    {
     "data": {
      "text/html": [
       "<div>\n",
       "<style scoped>\n",
       "    .dataframe tbody tr th:only-of-type {\n",
       "        vertical-align: middle;\n",
       "    }\n",
       "\n",
       "    .dataframe tbody tr th {\n",
       "        vertical-align: top;\n",
       "    }\n",
       "\n",
       "    .dataframe thead th {\n",
       "        text-align: right;\n",
       "    }\n",
       "</style>\n",
       "<table border=\"1\" class=\"dataframe\">\n",
       "  <thead>\n",
       "    <tr style=\"text-align: right;\">\n",
       "      <th></th>\n",
       "      <th>id</th>\n",
       "      <th>date_account_created</th>\n",
       "      <th>timestamp_first_active</th>\n",
       "      <th>date_first_booking</th>\n",
       "      <th>gender</th>\n",
       "      <th>age</th>\n",
       "      <th>signup_method</th>\n",
       "      <th>signup_flow</th>\n",
       "      <th>language</th>\n",
       "      <th>affiliate_channel</th>\n",
       "      <th>affiliate_provider</th>\n",
       "      <th>first_affiliate_tracked</th>\n",
       "      <th>signup_app</th>\n",
       "      <th>first_device_type</th>\n",
       "      <th>first_browser</th>\n",
       "      <th>country_destination</th>\n",
       "    </tr>\n",
       "  </thead>\n",
       "  <tbody>\n",
       "    <tr>\n",
       "      <th>0</th>\n",
       "      <td>gxn3p5htnn</td>\n",
       "      <td>2010-06-28</td>\n",
       "      <td>20090319043255</td>\n",
       "      <td>NaN</td>\n",
       "      <td>-unknown-</td>\n",
       "      <td>NaN</td>\n",
       "      <td>facebook</td>\n",
       "      <td>0</td>\n",
       "      <td>en</td>\n",
       "      <td>direct</td>\n",
       "      <td>direct</td>\n",
       "      <td>untracked</td>\n",
       "      <td>Web</td>\n",
       "      <td>Mac Desktop</td>\n",
       "      <td>Chrome</td>\n",
       "      <td>NDF</td>\n",
       "    </tr>\n",
       "    <tr>\n",
       "      <th>1</th>\n",
       "      <td>820tgsjxq7</td>\n",
       "      <td>2011-05-25</td>\n",
       "      <td>20090523174809</td>\n",
       "      <td>NaN</td>\n",
       "      <td>MALE</td>\n",
       "      <td>38.0</td>\n",
       "      <td>facebook</td>\n",
       "      <td>0</td>\n",
       "      <td>en</td>\n",
       "      <td>seo</td>\n",
       "      <td>google</td>\n",
       "      <td>untracked</td>\n",
       "      <td>Web</td>\n",
       "      <td>Mac Desktop</td>\n",
       "      <td>Chrome</td>\n",
       "      <td>NDF</td>\n",
       "    </tr>\n",
       "    <tr>\n",
       "      <th>2</th>\n",
       "      <td>4ft3gnwmtx</td>\n",
       "      <td>2010-09-28</td>\n",
       "      <td>20090609231247</td>\n",
       "      <td>2010-08-02</td>\n",
       "      <td>FEMALE</td>\n",
       "      <td>56.0</td>\n",
       "      <td>basic</td>\n",
       "      <td>3</td>\n",
       "      <td>en</td>\n",
       "      <td>direct</td>\n",
       "      <td>direct</td>\n",
       "      <td>untracked</td>\n",
       "      <td>Web</td>\n",
       "      <td>Windows Desktop</td>\n",
       "      <td>IE</td>\n",
       "      <td>US</td>\n",
       "    </tr>\n",
       "    <tr>\n",
       "      <th>3</th>\n",
       "      <td>bjjt8pjhuk</td>\n",
       "      <td>2011-12-05</td>\n",
       "      <td>20091031060129</td>\n",
       "      <td>2012-09-08</td>\n",
       "      <td>FEMALE</td>\n",
       "      <td>42.0</td>\n",
       "      <td>facebook</td>\n",
       "      <td>0</td>\n",
       "      <td>en</td>\n",
       "      <td>direct</td>\n",
       "      <td>direct</td>\n",
       "      <td>untracked</td>\n",
       "      <td>Web</td>\n",
       "      <td>Mac Desktop</td>\n",
       "      <td>Firefox</td>\n",
       "      <td>other</td>\n",
       "    </tr>\n",
       "    <tr>\n",
       "      <th>4</th>\n",
       "      <td>87mebub9p4</td>\n",
       "      <td>2010-09-14</td>\n",
       "      <td>20091208061105</td>\n",
       "      <td>2010-02-18</td>\n",
       "      <td>-unknown-</td>\n",
       "      <td>41.0</td>\n",
       "      <td>basic</td>\n",
       "      <td>0</td>\n",
       "      <td>en</td>\n",
       "      <td>direct</td>\n",
       "      <td>direct</td>\n",
       "      <td>untracked</td>\n",
       "      <td>Web</td>\n",
       "      <td>Mac Desktop</td>\n",
       "      <td>Chrome</td>\n",
       "      <td>US</td>\n",
       "    </tr>\n",
       "  </tbody>\n",
       "</table>\n",
       "</div>"
      ],
      "text/plain": [
       "           id date_account_created  timestamp_first_active date_first_booking  \\\n",
       "0  gxn3p5htnn           2010-06-28          20090319043255                NaN   \n",
       "1  820tgsjxq7           2011-05-25          20090523174809                NaN   \n",
       "2  4ft3gnwmtx           2010-09-28          20090609231247         2010-08-02   \n",
       "3  bjjt8pjhuk           2011-12-05          20091031060129         2012-09-08   \n",
       "4  87mebub9p4           2010-09-14          20091208061105         2010-02-18   \n",
       "\n",
       "      gender   age signup_method  signup_flow language affiliate_channel  \\\n",
       "0  -unknown-   NaN      facebook            0       en            direct   \n",
       "1       MALE  38.0      facebook            0       en               seo   \n",
       "2     FEMALE  56.0         basic            3       en            direct   \n",
       "3     FEMALE  42.0      facebook            0       en            direct   \n",
       "4  -unknown-  41.0         basic            0       en            direct   \n",
       "\n",
       "  affiliate_provider first_affiliate_tracked signup_app first_device_type  \\\n",
       "0             direct               untracked        Web       Mac Desktop   \n",
       "1             google               untracked        Web       Mac Desktop   \n",
       "2             direct               untracked        Web   Windows Desktop   \n",
       "3             direct               untracked        Web       Mac Desktop   \n",
       "4             direct               untracked        Web       Mac Desktop   \n",
       "\n",
       "  first_browser country_destination  \n",
       "0        Chrome                 NDF  \n",
       "1        Chrome                 NDF  \n",
       "2            IE                  US  \n",
       "3       Firefox               other  \n",
       "4        Chrome                  US  "
      ]
     },
     "execution_count": 4,
     "metadata": {},
     "output_type": "execute_result"
    }
   ],
   "source": [
    "raw = pd.read_csv('./data/train_users_2.csv')\n",
    "\n",
    "# First, let's identify our features...\n",
    "raw.head()"
   ]
  },
  {
   "cell_type": "markdown",
   "metadata": {},
   "source": [
    "#### Univariate Analysis\n",
    "\n",
    "**Univariate Analysis** is just a fancy word that refers to exploring a single feature.\n",
    "\n",
    "We consider *categorical* and *continuous* variables.\n",
    "\n",
    "Continuous variable analysis is primarily about exploring the central tendency of the distribution. What does this mean, and how might we do it?\n",
    "\n",
    "We've already seen ways to explore categorical variables. Can you think of a method of exploring a categorical variable?"
   ]
  },
  {
   "cell_type": "code",
   "execution_count": 5,
   "metadata": {},
   "outputs": [
    {
     "data": {
      "text/html": [
       "<div>\n",
       "<style scoped>\n",
       "    .dataframe tbody tr th:only-of-type {\n",
       "        vertical-align: middle;\n",
       "    }\n",
       "\n",
       "    .dataframe tbody tr th {\n",
       "        vertical-align: top;\n",
       "    }\n",
       "\n",
       "    .dataframe thead th {\n",
       "        text-align: right;\n",
       "    }\n",
       "</style>\n",
       "<table border=\"1\" class=\"dataframe\">\n",
       "  <thead>\n",
       "    <tr style=\"text-align: right;\">\n",
       "      <th></th>\n",
       "      <th>count</th>\n",
       "      <th>mean</th>\n",
       "      <th>std</th>\n",
       "      <th>min</th>\n",
       "      <th>25%</th>\n",
       "      <th>50%</th>\n",
       "      <th>75%</th>\n",
       "      <th>max</th>\n",
       "    </tr>\n",
       "  </thead>\n",
       "  <tbody>\n",
       "    <tr>\n",
       "      <th>timestamp_first_active</th>\n",
       "      <td>213451.0</td>\n",
       "      <td>2.013085e+13</td>\n",
       "      <td>9.253717e+09</td>\n",
       "      <td>2.009032e+13</td>\n",
       "      <td>2.012123e+13</td>\n",
       "      <td>2.013091e+13</td>\n",
       "      <td>2.014031e+13</td>\n",
       "      <td>2.014063e+13</td>\n",
       "    </tr>\n",
       "    <tr>\n",
       "      <th>age</th>\n",
       "      <td>125461.0</td>\n",
       "      <td>4.966834e+01</td>\n",
       "      <td>1.556666e+02</td>\n",
       "      <td>1.000000e+00</td>\n",
       "      <td>2.800000e+01</td>\n",
       "      <td>3.400000e+01</td>\n",
       "      <td>4.300000e+01</td>\n",
       "      <td>2.014000e+03</td>\n",
       "    </tr>\n",
       "    <tr>\n",
       "      <th>signup_flow</th>\n",
       "      <td>213451.0</td>\n",
       "      <td>3.267387e+00</td>\n",
       "      <td>7.637707e+00</td>\n",
       "      <td>0.000000e+00</td>\n",
       "      <td>0.000000e+00</td>\n",
       "      <td>0.000000e+00</td>\n",
       "      <td>0.000000e+00</td>\n",
       "      <td>2.500000e+01</td>\n",
       "    </tr>\n",
       "  </tbody>\n",
       "</table>\n",
       "</div>"
      ],
      "text/plain": [
       "                           count          mean           std           min  \\\n",
       "timestamp_first_active  213451.0  2.013085e+13  9.253717e+09  2.009032e+13   \n",
       "age                     125461.0  4.966834e+01  1.556666e+02  1.000000e+00   \n",
       "signup_flow             213451.0  3.267387e+00  7.637707e+00  0.000000e+00   \n",
       "\n",
       "                                 25%           50%           75%           max  \n",
       "timestamp_first_active  2.012123e+13  2.013091e+13  2.014031e+13  2.014063e+13  \n",
       "age                     2.800000e+01  3.400000e+01  4.300000e+01  2.014000e+03  \n",
       "signup_flow             0.000000e+00  0.000000e+00  0.000000e+00  2.500000e+01  "
      ]
     },
     "execution_count": 5,
     "metadata": {},
     "output_type": "execute_result"
    }
   ],
   "source": [
    "raw.describe().T"
   ]
  },
  {
   "cell_type": "markdown",
   "metadata": {},
   "source": [
    "#### Bivariate Analysis\n",
    "**Bivariate Analysis** just means exploring the relationship between two features\n",
    "\n",
    "We already know one geometric technique: scatter plots! However, we also know that, even if a scatter plot indicates some relationship between two variables, it cannot measure the strength of that relationship. In order to measure \"strength"
   ]
  },
  {
   "cell_type": "code",
   "execution_count": 6,
   "metadata": {},
   "outputs": [
    {
     "data": {
      "text/plain": [
       "<matplotlib.collections.PathCollection at 0x7ff664324358>"
      ]
     },
     "execution_count": 6,
     "metadata": {},
     "output_type": "execute_result"
    },
    {
     "data": {
      "image/png": "[encoded data removed]",
      "text/plain": [
       "<Figure size 432x288 with 1 Axes>"
      ]
     },
     "metadata": {},
     "output_type": "display_data"
    }
   ],
   "source": [
    "a = raw[['age','date_account_created']]\n",
    "a = a.dropna()\n",
    "a = a[a.age < 100]\n",
    "\n",
    "b = a.head(1000).sort_values(by=['date_account_created'])\n",
    "a = b.age\n",
    "t = b['date_account_created'].map(lambda x: x[:7])\n",
    "\n",
    "plt.scatter(a,t)"
   ]
  },
  {
   "cell_type": "markdown",
   "metadata": {},
   "source": [
    "In order to explore relationship between two categorial variables, we can use:\n",
    "- frequency tables\n",
    "- countplots\n",
    "- stacked bar charts\n",
    "- [chi-square test](https://docs.scipy.org/doc/scipy-0.13.0/reference/generated/scipy.stats.chisquare.html)\n",
    "\n",
    "We can also explore the relationship between continuous and categorial variables, but that is beyond our scope."
   ]
  },
  {
   "cell_type": "markdown",
   "metadata": {},
   "source": [
    "#### Bad Data\n",
    "\n",
    "Often, we will have missing data in one of our columns. In this event, there are a number of possible ways to handle our bad data. Can you consider a few possible solutions to bad data?\n",
    "\n",
    "Let's consider two options:\n",
    "1. Delete the data\n",
    "    - makes sense if we have random missing values and we can't derive any relationships\n",
    "1. Make up fake values\n",
    "    - using central tendency measurements\n",
    "    - using [KNN models](http://scikit-learn.org/stable/modules/generated/sklearn.neighbors.KNeighborsClassifier.html)\n",
    "    - using predictive models"
   ]
  },
  {
   "cell_type": "markdown",
   "metadata": {},
   "source": [
    "#### Outliers\n",
    "Sometimes, our data will have **outliers**, which are data points that diverge radically from our other observations. This may be due to measurement or experimental error. Often, we would like to remove these erroneous points"
   ]
  },
  {
   "cell_type": "markdown",
   "metadata": {},
   "source": [
    "<img src=\"https://ka-perseus-graphie.s3.amazonaws.com/9ac1d984f64c54527ce83a0fcd8f87a20d0d32e5.svg\">"
   ]
  },
  {
   "cell_type": "markdown",
   "metadata": {},
   "source": [
    "Some ways to detect outliers:\n",
    "1. graphically using plots (e.g. scatter plots or histograms)\n",
    "1. measuring the number of standard deviations away from the mean (usually 3 or more SD away)\n",
    "1. compressing our data (e.g eliminating everything beyond 5% from the tails)\n",
    "\n",
    "Some ways to remove outliers:\n",
    "1. delete them\n",
    "1. \"categorize\" them with the next most extreme value clusters\n",
    "1. build a separate model for the outliers if there is a significant cluster"
   ]
  },
  {
   "cell_type": "markdown",
   "metadata": {},
   "source": [
    "#### Feature Engineering\n",
    "\n",
    "Once we've analysed our data, we can consider adding new features and/or transforming existing features to further build our model. For example, we may perform a `log` transformation and replace an existing feature $f_1$ with $\\log(f_1)$. Perhaps this help us smooth outliers or align the distribution in a more meaningful way.\n",
    "\n",
    "You may also wan to change non-linear relationship into linear relationships. This makes the realtionship easier to understand, but it also requires careful attention to your transformations.\n",
    "\n",
    "Common methods include:\n",
    "1. taking the logarithm of a feature (often to reduce some directional skew)\n",
    "1. binning (e.g. taking values and clumping them together)"
   ]
  },
  {
   "cell_type": "markdown",
   "metadata": {},
   "source": [
    "<img src=\"https://i.stack.imgur.com/gd7k9.jpg\">"
   ]
  },
  {
   "cell_type": "markdown",
   "metadata": {},
   "source": [
    "In addition to transformation, we can also create new features. We've already seen a few examples of this in our previous lectures. Can anyone think of reasons we may create new features?"
   ]
  },
  {
   "cell_type": "markdown",
   "metadata": {},
   "source": [
    "### Feature Selection Algorithms\n",
    "\n",
    "In addition to careful analysis, we can employ some algorithms to help us select our best features. We've already seen a feature ranking algorithm provided by the properties of Random Forest Classifiers:\n",
    "\n",
    "`important_features_in_our_forest =` [forest.feature_importances_](http://scikit-learn.org/stable/modules/generated/sklearn.ensemble.RandomForestClassifier.html)\n",
    "\n",
    "There are a few other well known algorithms that we may employ:\n",
    "\n",
    "1. Univariate Selection\n",
    "2. RFE\n",
    "3. PCA"
   ]
  },
  {
   "cell_type": "code",
   "execution_count": 7,
   "metadata": {},
   "outputs": [
    {
     "data": {
      "text/html": [
       "<div>\n",
       "<style scoped>\n",
       "    .dataframe tbody tr th:only-of-type {\n",
       "        vertical-align: middle;\n",
       "    }\n",
       "\n",
       "    .dataframe tbody tr th {\n",
       "        vertical-align: top;\n",
       "    }\n",
       "\n",
       "    .dataframe thead th {\n",
       "        text-align: right;\n",
       "    }\n",
       "</style>\n",
       "<table border=\"1\" class=\"dataframe\">\n",
       "  <thead>\n",
       "    <tr style=\"text-align: right;\">\n",
       "      <th></th>\n",
       "      <th>admit</th>\n",
       "      <th>gre</th>\n",
       "      <th>gpa</th>\n",
       "      <th>rank</th>\n",
       "    </tr>\n",
       "  </thead>\n",
       "  <tbody>\n",
       "    <tr>\n",
       "      <th>0</th>\n",
       "      <td>0</td>\n",
       "      <td>380</td>\n",
       "      <td>3.61</td>\n",
       "      <td>3</td>\n",
       "    </tr>\n",
       "    <tr>\n",
       "      <th>1</th>\n",
       "      <td>1</td>\n",
       "      <td>660</td>\n",
       "      <td>3.67</td>\n",
       "      <td>3</td>\n",
       "    </tr>\n",
       "    <tr>\n",
       "      <th>2</th>\n",
       "      <td>1</td>\n",
       "      <td>800</td>\n",
       "      <td>4.00</td>\n",
       "      <td>1</td>\n",
       "    </tr>\n",
       "    <tr>\n",
       "      <th>3</th>\n",
       "      <td>1</td>\n",
       "      <td>640</td>\n",
       "      <td>3.19</td>\n",
       "      <td>4</td>\n",
       "    </tr>\n",
       "    <tr>\n",
       "      <th>4</th>\n",
       "      <td>0</td>\n",
       "      <td>520</td>\n",
       "      <td>2.93</td>\n",
       "      <td>4</td>\n",
       "    </tr>\n",
       "  </tbody>\n",
       "</table>\n",
       "</div>"
      ],
      "text/plain": [
       "   admit  gre   gpa  rank\n",
       "0      0  380  3.61     3\n",
       "1      1  660  3.67     3\n",
       "2      1  800  4.00     1\n",
       "3      1  640  3.19     4\n",
       "4      0  520  2.93     4"
      ]
     },
     "execution_count": 7,
     "metadata": {},
     "output_type": "execute_result"
    }
   ],
   "source": [
    "raw = pd.read_csv('./data/grades.csv')\n",
    "raw.head()"
   ]
  },
  {
   "cell_type": "markdown",
   "metadata": {},
   "source": [
    "#### Univariate Selection\n",
    "\n",
    "We can use common statistical tests to help us choose features which have the strongest relationships."
   ]
  },
  {
   "cell_type": "code",
   "execution_count": 8,
   "metadata": {},
   "outputs": [
    {
     "name": "stdout",
     "output_type": "stream",
     "text": [
      "[308.1688926    0.54140576   8.4233428 ]\n",
      "[[380.   3.]\n",
      " [660.   3.]\n",
      " [800.   1.]]\n"
     ]
    }
   ],
   "source": [
    "from sklearn.feature_selection import SelectKBest\n",
    "from sklearn.feature_selection import chi2\n",
    "\n",
    "y = raw['admit']\n",
    "X = raw[['gre','gpa','rank']]\n",
    "\n",
    "test = SelectKBest(score_func=chi2, k=2)\n",
    "fit = test.fit(X,y)\n",
    "\n",
    "features = fit.transform(X)\n",
    "\n",
    "print(fit.scores_)\n",
    "print(fit.transform(X)[0:3,:])\n"
   ]
  },
  {
   "cell_type": "markdown",
   "metadata": {},
   "source": [
    "#### Recursive Feature Elimination (RFE)\n",
    "\n",
    "This technique, intuitively, builds models with progressively fewer subsets of features."
   ]
  },
  {
   "cell_type": "code",
   "execution_count": 9,
   "metadata": {},
   "outputs": [
    {
     "name": "stdout",
     "output_type": "stream",
     "text": [
      "['gre' 'gpa' 'rank']\n",
      "[False  True  True]\n",
      "[2 1 1]\n"
     ]
    }
   ],
   "source": [
    "from sklearn.feature_selection import RFE\n",
    "from sklearn.linear_model import LogisticRegression\n",
    "\n",
    "logreg = LogisticRegression()\n",
    "rfe = RFE(logreg, 2)\n",
    "fit = rfe.fit(X,y)\n",
    "\n",
    "print(X.columns.values)\n",
    "print(fit.support_)\n",
    "print(fit.ranking_)"
   ]
  },
  {
   "cell_type": "code",
   "execution_count": null,
   "metadata": {},
   "outputs": [],
   "source": []
  },
  {
   "cell_type": "code",
   "execution_count": null,
   "metadata": {},
   "outputs": [],
   "source": []
  }
 ],
 "metadata": {
  "kernelspec": {
   "display_name": "Python 3",
   "language": "python",
   "name": "python3"
  },
  "language_info": {
   "codemirror_mode": {
    "name": "ipython",
    "version": 3
   },
   "file_extension": ".py",
   "mimetype": "text/x-python",
   "name": "python",
   "nbconvert_exporter": "python",
   "pygments_lexer": "ipython3",
   "version": "3.5.2"
  }
 },
 "nbformat": 4,
 "nbformat_minor": 2
}
