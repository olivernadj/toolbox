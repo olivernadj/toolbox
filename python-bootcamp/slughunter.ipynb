{
 "cells": [
  {
   "cell_type": "code",
   "execution_count": 1,
   "metadata": {},
   "outputs": [],
   "source": [
    "import json\n",
    "import requests"
   ]
  },
  {
   "cell_type": "code",
   "execution_count": 4,
   "metadata": {},
   "outputs": [
    {
     "data": {
      "text/plain": [
       "tuple"
      ]
     },
     "execution_count": 4,
     "metadata": {},
     "output_type": "execute_result"
    }
   ],
   "source": [
    "topics = ('math','science','computing','humanities','economic-finance-domain','test-prep','college-careers-more')\n",
    "type(topics)"
   ]
  },
  {
   "cell_type": "code",
   "execution_count": 14,
   "metadata": {},
   "outputs": [],
   "source": [
    "def topic_fatcher(topic):\n",
    "    slugs = []\n",
    "    r = requests.get('http://www.khanacademy.org/api/v1/topic/' + topic)\n",
    "    for child in r.json()['children']:\n",
    "        slugs.append(child['node_slug'])\n",
    "    return slugs"
   ]
  },
  {
   "cell_type": "code",
   "execution_count": 15,
   "metadata": {},
   "outputs": [
    {
     "name": "stdout",
     "output_type": "stream",
     "text": [
      "early-math,cc-kindergarten-math,cc-1st-grade-math,cc-2nd-grade-math,cc-third-grade-math,cc-fourth-grade-math,cc-fifth-grade-math,cc-sixth-grade-math,cc-seventh-grade-math,cc-eighth-grade-math,arithmetic,basic-geo,pre-algebra,algebra-basics,algebra,geometry,algebra2,trigonometry,statistics-probability,probability,ap-statistics,precalculus,differential-calculus,integral-calculus,ap-calculus-ab,ap-calculus-bc,calculus-1,calculus-2,multivariable-calculus,differential-equations,linear-algebra,6th-grade-illustrative-math,7th-grade-illustrative-math,8th-grade-illustrative-math,3rd-engage-ny,4th-engage-ny,5th-engage-ny,6th-engage-ny,7th-engage-ny,8th-engage-ny,engageny-alg-1,engageny-geo,engageny-alg2,engageny-precalc,3rd-grade-foundations-engageny,4th-grade-foundations-engageny,5th-grade-foundations-engageny,6th-grade-foundations-engageny,7th-grade-foundations-engageny,8th-grade-foundations-engageny,math1,math2,math3,arithmetic-home,algebra-home,geometry-home,math-for-fun-and-glory\n"
     ]
    }
   ],
   "source": [
    "for topic in topics:\n",
    "    slugs = topic_fatcher(topic)\n",
    "    print(','.join(slugs))\n",
    "    break"
   ]
  },
  {
   "cell_type": "code",
   "execution_count": null,
   "metadata": {},
   "outputs": [],
   "source": [
    "r = requests.get('http://www.khanacademy.org/api/v1/playlists/' + slug + '/videos')\n",
    "len(r.json())"
   ]
  },
  {
   "cell_type": "markdown",
   "metadata": {},
   "source": [
    "displacement-velocity-time,kinematic-formulas,pre-algebra-exponents,elements-and-atoms,demand-curve-tutorial"
   ]
  }
 ],
 "metadata": {
  "kernelspec": {
   "display_name": "Python 3",
   "language": "python",
   "name": "python3"
  },
  "language_info": {
   "codemirror_mode": {
    "name": "ipython",
    "version": 3
   },
   "file_extension": ".py",
   "mimetype": "text/x-python",
   "name": "python",
   "nbconvert_exporter": "python",
   "pygments_lexer": "ipython3",
   "version": "3.7.0"
  }
 },
 "nbformat": 4,
 "nbformat_minor": 2
}
