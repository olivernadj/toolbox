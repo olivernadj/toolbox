{
 "cells": [
  {
   "cell_type": "code",
   "execution_count": 19,
   "metadata": {},
   "outputs": [],
   "source": [
    "import json\n",
    "import requests\n",
    "from random import randint"
   ]
  },
  {
   "cell_type": "code",
   "execution_count": 38,
   "metadata": {},
   "outputs": [
    {
     "name": "stdout",
     "output_type": "stream",
     "text": [
      "slug: pre-algebra-exponents\n",
      "duration: 1234\n"
     ]
    }
   ],
   "source": [
    "# eg.: pre-algebra-exponents\n",
    "slug = input('slug: ')\n",
    "# eg.: 34 for 34 secounds\n",
    "duration = int(input('duration: '))"
   ]
  },
  {
   "cell_type": "code",
   "execution_count": 39,
   "metadata": {},
   "outputs": [
    {
     "data": {
      "text/plain": [
       "8"
      ]
     },
     "execution_count": 39,
     "metadata": {},
     "output_type": "execute_result"
    }
   ],
   "source": [
    "r = requests.get('http://www.khanacademy.org/api/v1/playlists/' + slug + '/videos')\n",
    "len(r.json())"
   ]
  },
  {
   "cell_type": "code",
   "execution_count": 61,
   "metadata": {},
   "outputs": [
    {
     "data": {
      "text/plain": [
       "'Exponentiation warmup'"
      ]
     },
     "execution_count": 61,
     "metadata": {},
     "output_type": "execute_result"
    }
   ],
   "source": [
    "r.json()[0]['title']"
   ]
  },
  {
   "cell_type": "code",
   "execution_count": 41,
   "metadata": {
    "scrolled": true
   },
   "outputs": [
    {
     "data": {
      "text/plain": [
       "{'clarifications_enabled': True,\n",
       " 'translated_youtube_id': 'UCCNoXqCGZQ',\n",
       " 'relative_url': '/video/exponents-warmup',\n",
       " 'has_custom_thumbnail': True,\n",
       " 'has_questions': False,\n",
       " 'creation_date': '2018-01-09T19:56:06Z',\n",
       " 'duration': 325,\n",
       " 'ka_url': 'https://www.khanacademy.org/video/exponents-warmup',\n",
       " 'download_urls': {'mp4-low-ios': 'https://cdn.kastatic.org/KA-youtube-converted/UCCNoXqCGZQ.mp4-low-ios/UCCNoXqCGZQ-low-ios.mp4',\n",
       "  'mp4': 'https://cdn.kastatic.org/KA-youtube-converted/UCCNoXqCGZQ.mp4/UCCNoXqCGZQ.mp4',\n",
       "  'm3u8': 'https://cdn.kastatic.org/KA-youtube-converted/UCCNoXqCGZQ.m3u8/UCCNoXqCGZQ.m3u8',\n",
       "  'png': 'https://cdn.kastatic.org/KA-youtube-converted/UCCNoXqCGZQ.mp4/UCCNoXqCGZQ.png',\n",
       "  'mp4-low': 'https://cdn.kastatic.org/KA-youtube-converted/UCCNoXqCGZQ.mp4-low/UCCNoXqCGZQ-low.mp4'},\n",
       " 'translated_title': 'Exponentiation warmup',\n",
       " 'author_key': 'ag5zfmtoYW4tYWNhZGVteXJaCxIIVXNlckRhdGEiTHVzZXJfaWRfa2V5X2h0dHA6Ly9ub3VzZXJpZC5raGFuYWNhZGVteS5vcmcvNjZmOTNhODE4YjU2ZWUxZTliOTM1MGI2OTc2OGQ4ZTMM',\n",
       " 'translated_description_html': 'introduction to exponents and exponential growth',\n",
       " 'id': 'x2ed287a2',\n",
       " 'concept_tags': ['Tag:xe296cfe125afd3f2'],\n",
       " 'download_size': 79547987,\n",
       " 'hide': False,\n",
       " 'description_html': 'introduction to exponents and exponential growth',\n",
       " 'do_not_publish': False,\n",
       " 'related_content': [],\n",
       " 'license_logo_url': '/images/license-logos/by-nc-sa.png',\n",
       " 'progress_key': 'vx2ed287a2',\n",
       " 'edit_slug': 'edit/v/x2ed287a2',\n",
       " 'author_names': ['Sal Khan'],\n",
       " 'license_full_name': 'Creative Commons Attribution/Non-Commercial/Share-Alike',\n",
       " 'listed': True,\n",
       " 'alternate_slugs': [],\n",
       " 'image_url': 'https://cdn.kastatic.org/googleusercontent/pfyzTln_LgIaRts90V4cEWxfSuL9QEN-xonR4S8A9-cNweOXEOOxBppIwIxpmd6ufZQMbHokzX8-cH4Y68VZzLEn',\n",
       " 'deleted_mod_time': None,\n",
       " 'thumbnail_data': {'url': '',\n",
       "  'skip_filter': False,\n",
       "  'title_text': 'Exponentiation\\nwarmup',\n",
       "  'gcs_name': '/ka_thumbnails/UCCNoXqCGZQ.jpg'},\n",
       " 'translated_custom_description_tag': '',\n",
       " 'source_language': 'en',\n",
       " 'description': 'introduction to exponents and exponential growth',\n",
       " 'extra_properties': {},\n",
       " 'custom_title_tag': '',\n",
       " 'deleted': False,\n",
       " 'license_name': 'CC BY-NC-SA (KA default)',\n",
       " 'backup_timestamp': None,\n",
       " 'concept_tags_info': [{'display_name': 'Exponents',\n",
       "   'id': 'Tag:xe296cfe125afd3f2',\n",
       "   'slug': 'exponents'}],\n",
       " 'sha': 'e0211b5858f548ffbc12e2a199c2bce2f0287494',\n",
       " 'node_slug': 'v/exponents-warmup',\n",
       " 'translated_custom_title_tag': '',\n",
       " 'sponsored': False,\n",
       " 'position': 1,\n",
       " 'date_added': '2014-02-21T00:00:57Z',\n",
       " 'author_list': [{'ka_url': None, 'name': 'Sal Khan'}],\n",
       " 'translated_youtube_lang': 'en',\n",
       " 'kind': 'Video',\n",
       " 'custom_description_tag': '',\n",
       " 'date_modified': '2018-10-07T03:33:37Z',\n",
       " 'url': 'http://www.youtube.com/watch?v=UCCNoXqCGZQ&feature=youtube_gdata_player',\n",
       " 'content_kind': 'Video',\n",
       " 'title': 'Exponentiation warmup',\n",
       " 'ka_user_license': 'cc-by-nc-sa',\n",
       " 'global_id': 'vx2ed287a2',\n",
       " 'imported_from_sha': None,\n",
       " 'translated_description': 'introduction to exponents and exponential growth',\n",
       " 'license_url': 'http://creativecommons.org/licenses/by-nc-sa/3.0',\n",
       " 'keywords': '',\n",
       " 'youtube_id': 'UCCNoXqCGZQ',\n",
       " 'download_sizes': {'mp4': 79547987,\n",
       "  'mp4-low': 1782229,\n",
       "  'mp4-low-ios': 2247638},\n",
       " 'content_id': 'x2ed287a2',\n",
       " 'assessment_item_tags': [],\n",
       " 'readable_id': 'exponents-warmup'}"
      ]
     },
     "execution_count": 41,
     "metadata": {},
     "output_type": "execute_result"
    }
   ],
   "source": [
    "r.json()[0]"
   ]
  },
  {
   "cell_type": "code",
   "execution_count": 42,
   "metadata": {},
   "outputs": [
    {
     "data": {
      "text/plain": [
       "list"
      ]
     },
     "execution_count": 42,
     "metadata": {},
     "output_type": "execute_result"
    }
   ],
   "source": [
    "type(r.json())"
   ]
  },
  {
   "cell_type": "code",
   "execution_count": 43,
   "metadata": {},
   "outputs": [
    {
     "data": {
      "text/plain": [
       "1234"
      ]
     },
     "execution_count": 43,
     "metadata": {},
     "output_type": "execute_result"
    }
   ],
   "source": [
    "# r.json()[0]\n",
    "duration"
   ]
  },
  {
   "cell_type": "code",
   "execution_count": 62,
   "metadata": {},
   "outputs": [
    {
     "data": {
      "text/plain": [
       "[{'png': 'https://cdn.kastatic.org/KA-youtube-converted/UCCNoXqCGZQ.mp4/UCCNoXqCGZQ.png',\n",
       "  'title': 'Exponentiation warmup',\n",
       "  'description': 'introduction to exponents and exponential growth',\n",
       "  'duration': 325,\n",
       "  'youtube_id': 'UCCNoXqCGZQ'},\n",
       " {'png': 'https://cdn.kastatic.org/KA-youtube-converted/XZRQhkii0h0.mp4/XZRQhkii0h0.png',\n",
       "  'title': 'Intro to exponents',\n",
       "  'description': 'Sal shows how exponents are repeated multiplication',\n",
       "  'duration': 183,\n",
       "  'youtube_id': 'XZRQhkii0h0'},\n",
       " {'png': 'https://cdn.kastatic.org/KA-youtube-converted/dAvosUEUH6I.mp4/dAvosUEUH6I.png',\n",
       "  'title': 'The 0 & 1st power',\n",
       "  'description': 'Discover a pattern that explains why any non-zero number to the zero power equals one.',\n",
       "  'duration': 307,\n",
       "  'youtube_id': 'dAvosUEUH6I'},\n",
       " {'png': 'https://cdn.kastatic.org/KA-youtube-converted/jYOfMszfzAQ.mp4/jYOfMszfzAQ.png',\n",
       "  'title': '1 and -1 to different powers',\n",
       "  'description': 'Use odd and even rules to determine the sign of an exponential expression.',\n",
       "  'duration': 368,\n",
       "  'youtube_id': 'jYOfMszfzAQ'}]"
      ]
     },
     "execution_count": 62,
     "metadata": {},
     "output_type": "execute_result"
    }
   ],
   "source": [
    "totalduration = 0\n",
    "items = []\n",
    "\n",
    "for item in r.json():\n",
    "    if duration < totalduration + item['duration']:\n",
    "        break\n",
    "    totalduration += item['duration']\n",
    "    items.append({\n",
    "        'png':item['download_urls']['png'],\n",
    "        'title':item['title'],\n",
    "        'description':item['description'],\n",
    "        'duration':item['duration'],\n",
    "        'youtube_id':item['youtube_id']\n",
    "    })\n",
    "items"
   ]
  },
  {
   "cell_type": "code",
   "execution_count": 63,
   "metadata": {},
   "outputs": [],
   "source": [
    "response = {\n",
    "    'playlist':'https://www.youtube.com/embed?playlist=' + ','.join([i['youtube_id'] for i in items]),\n",
    "    'items':len(items),\n",
    "    'png': items[0]['png'],\n",
    "    'title': items[0]['title'],\n",
    "    'description': items[0]['description'],\n",
    "    'actual_duration': totalduration,\n",
    "    'input':{\n",
    "        'slug':slug,\n",
    "        'duration':duration\n",
    "    }\n",
    "}"
   ]
  },
  {
   "cell_type": "code",
   "execution_count": 64,
   "metadata": {},
   "outputs": [
    {
     "data": {
      "text/plain": [
       "[{'playlist': 'https://www.youtube.com/embed?playlist=UCCNoXqCGZQ,XZRQhkii0h0,dAvosUEUH6I,jYOfMszfzAQ',\n",
       "  'items': 4,\n",
       "  'png': 'https://cdn.kastatic.org/KA-youtube-converted/UCCNoXqCGZQ.mp4/UCCNoXqCGZQ.png',\n",
       "  'title': 'Exponentiation warmup',\n",
       "  'description': 'introduction to exponents and exponential growth',\n",
       "  'actual_duration': 1183,\n",
       "  'input': {'slug': 'pre-algebra-exponents', 'duration': 1234}},\n",
       " {'playlist': 'https://www.youtube.com/embed?playlist=UCCNoXqCGZQ,XZRQhkii0h0,dAvosUEUH6I,jYOfMszfzAQ',\n",
       "  'items': 4,\n",
       "  'png': 'https://cdn.kastatic.org/KA-youtube-converted/UCCNoXqCGZQ.mp4/UCCNoXqCGZQ.png',\n",
       "  'title': 'Exponentiation warmup',\n",
       "  'description': 'introduction to exponents and exponential growth',\n",
       "  'actual_duration': 1183,\n",
       "  'input': {'slug': 'pre-algebra-exponents', 'duration': 1234}}]"
      ]
     },
     "execution_count": 64,
     "metadata": {},
     "output_type": "execute_result"
    }
   ],
   "source": [
    "[response,response]"
   ]
  },
  {
   "cell_type": "code",
   "execution_count": null,
   "metadata": {},
   "outputs": [],
   "source": []
  }
 ],
 "metadata": {
  "kernelspec": {
   "display_name": "Python 3",
   "language": "python",
   "name": "python3"
  },
  "language_info": {
   "codemirror_mode": {
    "name": "ipython",
    "version": 3
   },
   "file_extension": ".py",
   "mimetype": "text/x-python",
   "name": "python",
   "nbconvert_exporter": "python",
   "pygments_lexer": "ipython3",
   "version": "3.7.0"
  }
 },
 "nbformat": 4,
 "nbformat_minor": 2
}
