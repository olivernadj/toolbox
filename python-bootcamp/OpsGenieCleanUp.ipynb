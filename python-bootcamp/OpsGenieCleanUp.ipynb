{
 "cells": [
  {
   "cell_type": "markdown",
   "metadata": {},
   "source": [
    "## OpsGenie Utils"
   ]
  },
  {
   "cell_type": "code",
   "execution_count": null,
   "metadata": {},
   "outputs": [],
   "source": [
    "import requests\n",
    "from urllib.parse import urlencode\n",
    "import csv\n",
    "\n",
    "\n",
    "class GenieClient():\n",
    "    def __init__(self, key):\n",
    "        self.url = 'https://api.opsgenie.com/v2/%s'\n",
    "        self.headers = {\n",
    "            'Content-Type': 'application/json',\n",
    "            'Authorization': 'GenieKey ' + key,\n",
    "            'Cache-control': 'no-cache'\n",
    "        }\n",
    "\n",
    "    def request(self, path, **kwargs):\n",
    "        url = self.url % path + ('?' + urlencode(kwargs) if len(kwargs) else '')\n",
    "        last = False\n",
    "        while not last:\n",
    "            r = requests.get(url, headers=self.headers).json()\n",
    "            yield r\n",
    "            if 'paging' in r and 'next' in r['paging']:\n",
    "                url = r['paging']['next']\n",
    "            else:\n",
    "                last = True\n",
    "\n",
    "    def delete(self, path, **kwargs):\n",
    "        url = self.url % path + ('?' + urlencode(kwargs) if len(kwargs) else '')\n",
    "        return requests.delete(url, headers=self.headers).json()\n",
    "\n",
    "    def patch(self, path, payload, **kwargs):\n",
    "        url = self.url % path + ('?' + urlencode(kwargs) if len(kwargs) else '')\n",
    "        return requests.patch(url, json=payload, headers=self.headers).json()\n",
    "\n",
    "    def dump_users(self, filename, query=''):\n",
    "        \"\"\"\n",
    "        Dump user list to csv file\n",
    "        example:\n",
    "          filename='users.csv'\n",
    "          query='role:user AND verified:1'\n",
    "        \"\"\"\n",
    "        with open(filename, 'w', newline='') as csvfile:\n",
    "            csvw = csv.writer(csvfile, delimiter=',', quotechar='|', quoting=csv.QUOTE_MINIMAL)\n",
    "            csvw.writerow(('name', 'email', 'role', 'verified'))\n",
    "            for r in self.request('users', query=query):\n",
    "                print('.')\n",
    "                if 'data' in r:\n",
    "                    for u in r['data']:\n",
    "                        csvw.writerow((u['fullName'], u['username'], u['role']['name'], u['verified']))\n",
    "\n",
    "    def for_existing_user(func):\n",
    "        def inner(self, username):\n",
    "            r = requests.get(self.url % 'users/' + username, headers=self.headers)\n",
    "            if r.status_code == requests.codes.ok and 'data' in r.json():\n",
    "                return func(self, username)\n",
    "            else:\n",
    "                print('[Error] User account {} not found'.format(username))\n",
    "        return inner\n",
    "\n",
    "    def remove_user_from_escalations(self, username):\n",
    "        for user_esc in next(self.request(f'users/{username}/escalations'))['data']:\n",
    "            escalation = next(self.request('escalations/' + user_esc['id']))['data']\n",
    "            esc_rules = list(filter(lambda r: not(r['recipient']['type'] == 'user' and username == r['recipient']['username']), escalation['rules']))\n",
    "            if len(esc_rules) == 0:\n",
    "                if 'ownerTeam' in escalation:\n",
    "                    for rule in next(self.request('/teams/' + escalation['ownerTeam']['id'] + '/routing-rules'))['data']:\n",
    "                        if ('notify' in rule and rule['notify']['type'] == 'escalation' and rule['notify']['id'] == user_esc['id']):\n",
    "                            try:\n",
    "                                r = self.delete(\n",
    "                                    'teams/' + escalation['ownerTeam']['id'] + '/routing-rules/' + rule['id'])\n",
    "                                if 'result' not in r or r['result'] != 'Deleted':\n",
    "                                    raise Exception(r['message'])\n",
    "                                print('[ OK  ] Remove vacant routing-rules {} for {}'.format(rule['notify']['name'], username))\n",
    "                            except Exception as e:\n",
    "                                print('[Error] Remove vacant routing-rules {} for {}'.format(rule['notify']['name'], username))\n",
    "                                print(\"\\tException \" + str(e))\n",
    "                try:\n",
    "                    r = self.delete('escalations/' + user_esc['id'])\n",
    "                    if 'result' not in r or r['result'] != 'Deleted':\n",
    "                        raise Exception(r['message'])\n",
    "                    print('[ OK  ] Remove vacant escalation {} for {}'.format(user_esc['name'], username))\n",
    "                except Exception as e:\n",
    "                    print('[Error] Remove vacant escalation {} for {}'.format(user_esc['name'], username))\n",
    "                    print(\"\\tException \" + str(e))\n",
    "            else:\n",
    "                try:\n",
    "                    r = self.patch('escalations/' + user_esc['id'], {'rules': esc_rules})\n",
    "                    if 'result' not in r or r['result'] != 'Updated':\n",
    "                        raise Exception(r['message'])\n",
    "                    print('[ OK  ] Remove {} from escalation {}'.format(username, user_esc['name']))\n",
    "                except Exception as e:\n",
    "                    print('[Error] Remove {} from escalation {}'.format(username, user_esc['name']))\n",
    "                    print(\"\\tException \" + str(e))\n",
    "\n",
    "    def remove_user_from_schedules(self, username):\n",
    "        for schedule in next(self.request(f'users/{username}/schedules'))['data']:\n",
    "            rotations = next(self.request('schedules/' + schedule['id'] + '/rotations'))['data']\n",
    "            for kr, rotation in enumerate(rotations):\n",
    "                participants = list(filter(lambda p: not('username' in p and p['username'] == username), rotation['participants']))\n",
    "                if len(participants) == 0:\n",
    "                    try:\n",
    "                        r = self.delete('schedules/{}/rotations/{}'.format(schedule['id'], rotations[kr]['id']))\n",
    "                        if 'result' not in r or r['result'] != 'Deleted':\n",
    "                            raise Exception(r['message'])\n",
    "                        print('[ OK  ] Remove {} and the vacant rotation {}/{}'.format(username, schedule['name'], rotation['name']))\n",
    "                    except Exception as e:\n",
    "                        print('[Error] Remove {} and the vacant rotation {}/{}'.format(username, schedule['name'], rotation['name']))\n",
    "                        print(\"\\tException \" + str(e))\n",
    "                else:\n",
    "                    try:\n",
    "                        r = self.patch('schedules/{}/rotations/{}'.format(schedule['id'], rotations[kr]['id']),\n",
    "                                       {'participants': participants})\n",
    "                        if 'result' not in r or r['result'] != 'Updated':\n",
    "                            raise Exception(r['message'])\n",
    "                        print('[ OK  ] Remove {} from rotation {}/{}'.format(username, schedule['name'], rotation['name']))\n",
    "                    except Exception as e:\n",
    "                        print('[Error] Remove {} from rotation {}/{}'.format(username, schedule['name'], rotation['name']))\n",
    "                        print(\"\\tException \" + str(e))\n",
    "\n",
    "    def remove_user_from_teams(self, username):\n",
    "        for team in next(self.request(f'users/{username}/teams'))['data']:\n",
    "            try:\n",
    "                r = self.delete('teams/{}/members/{}'.format(team['id'], username))\n",
    "                if 'result' not in r or r['result'] != 'Removed':\n",
    "                    raise Exception(r['message'])\n",
    "                print('[ OK  ] Remove {} from team {}'.format(username, team['name']))\n",
    "            except Exception as e:\n",
    "                print('[Error] Remove {} from team {}'.format(username, team['name']))\n",
    "                print(\"\\tException \" + str(e))\n",
    "\n",
    "    def delete_user(self, username):\n",
    "        try:\n",
    "            r = self.delete('users/' + username)\n",
    "            if 'result' not in r or r['result'] != 'Deleted':\n",
    "                raise Exception(r['message'])\n",
    "            print('[ OK  ] Remove user account {}'.format(username))\n",
    "        except Exception as e:\n",
    "            print('[Error] Remove user account {}'.format(username))\n",
    "            print(\"\\tException \" + str(e))\n",
    "\n",
    "    @for_existing_user\n",
    "    def deep_user_remove(self, username):\n",
    "        self.remove_user_from_escalations(username)\n",
    "        self.remove_user_from_schedules(username)\n",
    "        self.remove_user_from_teams(username)\n",
    "        self.delete_user(username)\n",
    "        \n",
    "    def delete_empty_teams(self):\n",
    "        for teams in g.request('teams'):\n",
    "            for team in teams['data']:\n",
    "                info = next(g.request('teams/{}'.format(team['id'])))['data']\n",
    "                if not 'members' in info:\n",
    "                    try:\n",
    "                        r = self.delete('teams/{}'.format(team['id']))\n",
    "                        if 'result' not in r or r['result'] != 'Deleted':\n",
    "                            raise Exception(r['message'])\n",
    "                        print('[ OK  ] Deleted empty team {}'.format(team['name']))\n",
    "                    except Exception as e:\n",
    "                        print('[Error] Deleted empty team {}'.format(team['name']))\n",
    "                        print(\"\\tException \" + str(e))\n",
    "                else:\n",
    "                    print('[Skipp] Team {} with {} member(s)'.format(team['name'], len(info['members'])))\n",
    "        \n",
    "    def delete_disabled_integrations(self):\n",
    "        for integrations in g.request('integrations'):\n",
    "            for integration in integrations['data']:\n",
    "                if not integration['enabled']:\n",
    "                    try:\n",
    "                        r = self.delete('integrations/{}'.format(integration['id']))\n",
    "                        if 'result' not in r or r['result'] != 'Deleted':\n",
    "                            raise Exception(r['message'])\n",
    "                        print('[ OK  ] Deleted disabled integration {}'.format(integration['name']))\n",
    "                    except Exception as e:\n",
    "                        print('[Error] Deleted disabled integration {}'.format(integration['name']))\n",
    "                        print(\"\\tException \" + str(e))\n",
    "                else:\n",
    "                    print('[Skipp] Enabled integration {}'.format(integration['name']))\n",
    "\n",
    "                    "
   ]
  },
  {
   "cell_type": "code",
   "execution_count": null,
   "metadata": {},
   "outputs": [],
   "source": [
    "g = GenieClient('58aca3d1-55b9-4a43-bfc0-6790b8c356c8')\n",
    "# g = GenieClient(input('OpsGenie API Key: '))"
   ]
  },
  {
   "cell_type": "code",
   "execution_count": null,
   "metadata": {
    "scrolled": true
   },
   "outputs": [],
   "source": [
    "import pandas as pd\n",
    "to_protect = pd.read_csv('./users.csv')['email'].tolist()\n",
    "to_protect[0:3]"
   ]
  },
  {
   "cell_type": "code",
   "execution_count": null,
   "metadata": {},
   "outputs": [],
   "source": [
    "g.dump_users('all-users.csv')\n",
    "allusers = pd.read_csv('all-users.csv')['email'].tolist()\n",
    "allusers[0:6]"
   ]
  },
  {
   "cell_type": "code",
   "execution_count": null,
   "metadata": {
    "scrolled": true
   },
   "outputs": [],
   "source": [
    "with open('users-to-remove.csv', 'w', newline='') as csvfile:\n",
    "    csvw = csv.writer(csvfile, delimiter=',', quotechar='|', quoting=csv.QUOTE_MINIMAL)\n",
    "    csvw.writerow(['email'])\n",
    "    for u in allusers:\n",
    "        if not(u in to_protect):\n",
    "            csvw.writerow([u])"
   ]
  },
  {
   "cell_type": "code",
   "execution_count": null,
   "metadata": {},
   "outputs": [],
   "source": [
    "to_remove = pd.read_csv('users-to-remove.csv')['email'].tolist()\n",
    "to_remove[0:20]"
   ]
  },
  {
   "cell_type": "code",
   "execution_count": null,
   "metadata": {
    "scrolled": false
   },
   "outputs": [],
   "source": [
    "g.deep_user_remove('alexey.bandurkin@lazada.com')"
   ]
  },
  {
   "cell_type": "code",
   "execution_count": null,
   "metadata": {},
   "outputs": [],
   "source": [
    "for u in to_remove:\n",
    "    g.deep_user_remove(u)"
   ]
  },
  {
   "cell_type": "code",
   "execution_count": null,
   "metadata": {},
   "outputs": [],
   "source": []
  },
  {
   "cell_type": "code",
   "execution_count": null,
   "metadata": {},
   "outputs": [],
   "source": []
  },
  {
   "cell_type": "code",
   "execution_count": null,
   "metadata": {},
   "outputs": [],
   "source": []
  },
  {
   "cell_type": "code",
   "execution_count": null,
   "metadata": {},
   "outputs": [],
   "source": []
  },
  {
   "cell_type": "code",
   "execution_count": null,
   "metadata": {},
   "outputs": [],
   "source": [
    "next(g.request('users/' + username))"
   ]
  },
  {
   "cell_type": "code",
   "execution_count": null,
   "metadata": {},
   "outputs": [],
   "source": [
    "next(g.request('users/' + username + '/schedules'))"
   ]
  },
  {
   "cell_type": "code",
   "execution_count": null,
   "metadata": {},
   "outputs": [],
   "source": [
    "next(g.request('users/' + username + '/teams'))"
   ]
  },
  {
   "cell_type": "code",
   "execution_count": null,
   "metadata": {},
   "outputs": [],
   "source": [
    "g.delete_empty_teams()"
   ]
  },
  {
   "cell_type": "code",
   "execution_count": null,
   "metadata": {},
   "outputs": [],
   "source": [
    "g.delete_disabled_integrations()"
   ]
  },
  {
   "cell_type": "code",
   "execution_count": null,
   "metadata": {},
   "outputs": [],
   "source": [
    "#next(g.request('integrations/0535f4cb-70ad-4544-8c45-02e9d793f7a2'))\n"
   ]
  },
  {
   "cell_type": "code",
   "execution_count": null,
   "metadata": {},
   "outputs": [],
   "source": [
    "g.delete('integrations/0535f4cb-70ad-4544-8c45-02e9d793f7a2')"
   ]
  },
  {
   "cell_type": "code",
   "execution_count": null,
   "metadata": {},
   "outputs": [],
   "source": []
  }
 ],
 "metadata": {
  "kernelspec": {
   "display_name": "Python 3",
   "language": "python",
   "name": "python3"
  },
  "language_info": {
   "codemirror_mode": {
    "name": "ipython",
    "version": 3
   },
   "file_extension": ".py",
   "mimetype": "text/x-python",
   "name": "python",
   "nbconvert_exporter": "python",
   "pygments_lexer": "ipython3",
   "version": "3.7.0"
  }
 },
 "nbformat": 4,
 "nbformat_minor": 2
}
